{
 "cells": [
  {
   "cell_type": "code",
   "execution_count": 84,
   "id": "d231d01b",
   "metadata": {},
   "outputs": [],
   "source": [
    "using Distances"
   ]
  },
  {
   "cell_type": "code",
   "execution_count": 73,
   "id": "e27cffe2",
   "metadata": {},
   "outputs": [],
   "source": []
  },
  {
   "cell_type": "code",
   "execution_count": 83,
   "id": "7f93e048",
   "metadata": {},
   "outputs": [],
   "source": [
    "struct CVRPInstance\n",
    "    cost::Array{Float64, 2}\n",
    "    demand::Array{Int64}\n",
    "    capacity::Int64\n",
    "    K::Int64\n",
    "end"
   ]
  },
  {
   "cell_type": "code",
   "execution_count": 122,
   "id": "489aeb7a",
   "metadata": {},
   "outputs": [
    {
     "data": {
      "text/plain": [
       "parse_vrp (generic function with 1 method)"
      ]
     },
     "execution_count": 122,
     "metadata": {},
     "output_type": "execute_result"
    }
   ],
   "source": [
    "function parse_vrp(fp::String)\n",
    "\n",
    "    f = open(fp)\n",
    "    text = readlines(f)\n",
    "    close(f)\n",
    "\n",
    "    k = 0\n",
    "    capacity = 0\n",
    "    instance_size = 0\n",
    "\n",
    "    data_parse_flag = false\n",
    "    parsing_demand = false\n",
    "    parsing_edge_weights = false\n",
    "    parsing_coords = false\n",
    "\n",
    "    coords = []\n",
    "    demand = []\n",
    "    cost = []\n",
    "\n",
    "    for line in text\n",
    "        if occursin(\"NAME : \", line)\n",
    "            k += parse(Int, match(r\"k\\d+\", line).match[2:end])\n",
    "        elseif occursin(\"DIMENSION\", line)\n",
    "            instance_size += parse(Int, match(r\"\\d+\", line).match)\n",
    "        elseif occursin(\"CAPACITY\", line)\n",
    "            capacity += parse(Int, match(r\"\\d+\", line).match)\n",
    "        elseif occursin(\"NODE_COORD_SECTION\", line)\n",
    "            data_parse_flag = true\n",
    "            parsing_coords = true\n",
    "            parsing_edge_weights = false\n",
    "            parsing_demand = false\n",
    "            continue\n",
    "        elseif occursin(\"EDGE_WEIGHT_SECTION\", line)\n",
    "            data_parse_flag = true\n",
    "            parsing_coords = false\n",
    "            parsing_edge_weights = true\n",
    "            parsing_demand = false\n",
    "            continue\n",
    "        elseif occursin(\"DEMAND_SECTION\", line)\n",
    "            data_parse_flag = true\n",
    "            parsing_coords = false\n",
    "            parsing_edge_weights = false\n",
    "            parsing_demand = true\n",
    "            continue\n",
    "        elseif occursin(\"DEPOT_SECTION\", line)\n",
    "            data_parse_flag = false\n",
    "\n",
    "        elseif occursin(\"EOF\", line)\n",
    "            break\n",
    "        end\n",
    "\n",
    "        if data_parse_flag\n",
    "            if parsing_coords\n",
    "                data = parse.(Float64, split(line))\n",
    "                push!(coords, data)\n",
    "            elseif parsing_edge_weights\n",
    "                data = parse.(Float64, split(line))\n",
    "                push!(cost, data)\n",
    "            elseif parsing_demand\n",
    "                data = parse.(Int, split(line))\n",
    "                push!(demand, data)\n",
    "            end\n",
    "        end\n",
    "    end\n",
    "\n",
    "    if size(coords)[end] == 0\n",
    "        println(\"Sorry not implemented\")\n",
    "    else\n",
    "        coords = permutedims(hcat(coords...))[:,2:end];\n",
    "        demand = permutedims(hcat(demand...))[:,2];\n",
    "        cost = pairwise(Euclidean(), coords, dims=1)\n",
    "\n",
    "        return CVRPInstance(cost, demand, capacity, k)\n",
    "    end\n",
    "end"
   ]
  },
  {
   "cell_type": "code",
   "execution_count": 124,
   "id": "2b9c4dce",
   "metadata": {},
   "outputs": [
    {
     "name": "stdout",
     "output_type": "stream",
     "text": [
      "Sorry not implemented\n"
     ]
    }
   ],
   "source": [
    "parse_vrp(\"data/E-n13-k4.vrp\")"
   ]
  },
  {
   "cell_type": "code",
   "execution_count": 12,
   "id": "6cbc5ff5",
   "metadata": {},
   "outputs": [
    {
     "data": {
      "text/plain": [
       "three_n_plus_one (generic function with 1 method)"
      ]
     },
     "execution_count": 12,
     "metadata": {},
     "output_type": "execute_result"
    }
   ],
   "source": [
    "function three_n_plus_one(x)\n",
    "    println(x)\n",
    "    if x == 1\n",
    "        return 1\n",
    "    else\n",
    "        if x % 2 != 0\n",
    "            three_n_plus_one(3*x+1)\n",
    "        else\n",
    "            three_n_plus_one(x ÷ 2)\n",
    "        end\n",
    "    end\n",
    "end"
   ]
  },
  {
   "cell_type": "code",
   "execution_count": 17,
   "id": "2de8061b",
   "metadata": {},
   "outputs": [
    {
     "name": "stdout",
     "output_type": "stream",
     "text": [
      "2789\n",
      "8368\n",
      "4184\n",
      "2092\n",
      "1046\n",
      "523\n",
      "1570\n",
      "785\n",
      "2356\n",
      "1178\n",
      "589\n",
      "1768\n",
      "884\n",
      "442\n",
      "221\n",
      "664\n",
      "332\n",
      "166\n",
      "83\n",
      "250\n",
      "125\n",
      "376\n",
      "188\n",
      "94\n",
      "47\n",
      "142\n",
      "71\n",
      "214\n",
      "107\n",
      "322\n",
      "161\n",
      "484\n",
      "242\n",
      "121\n",
      "364\n",
      "182\n",
      "91\n",
      "274\n",
      "137\n",
      "412\n",
      "206\n",
      "103\n",
      "310\n",
      "155\n",
      "466\n",
      "233\n",
      "700\n",
      "350\n",
      "175\n",
      "526\n",
      "263\n",
      "790\n",
      "395\n",
      "1186\n",
      "593\n",
      "1780\n",
      "890\n",
      "445\n",
      "1336\n",
      "668\n",
      "334\n",
      "167\n",
      "502\n",
      "251\n",
      "754\n",
      "377\n",
      "1132\n",
      "566\n",
      "283\n",
      "850\n",
      "425\n",
      "1276\n",
      "638\n",
      "319\n",
      "958\n",
      "479\n",
      "1438\n",
      "719\n",
      "2158\n",
      "1079\n",
      "3238\n",
      "1619\n",
      "4858\n",
      "2429\n",
      "7288\n",
      "3644\n",
      "1822\n",
      "911\n",
      "2734\n",
      "1367\n",
      "4102\n",
      "2051\n",
      "6154\n",
      "3077\n",
      "9232\n",
      "4616\n",
      "2308\n",
      "1154\n",
      "577\n",
      "1732\n",
      "866\n",
      "433\n",
      "1300\n",
      "650\n",
      "325\n",
      "976\n",
      "488\n",
      "244\n",
      "122\n",
      "61\n",
      "184\n",
      "92\n",
      "46\n",
      "23\n",
      "70\n",
      "35\n",
      "106\n",
      "53\n",
      "160\n",
      "80\n",
      "40\n",
      "20\n",
      "10\n",
      "5\n",
      "16\n",
      "8\n",
      "4\n",
      "2\n",
      "1\n"
     ]
    },
    {
     "data": {
      "text/plain": [
       "1"
      ]
     },
     "execution_count": 17,
     "metadata": {},
     "output_type": "execute_result"
    }
   ],
   "source": [
    "three_n_plus_one(2789)"
   ]
  },
  {
   "cell_type": "code",
   "execution_count": null,
   "id": "818d7493",
   "metadata": {},
   "outputs": [],
   "source": []
  }
 ],
 "metadata": {
  "kernelspec": {
   "display_name": "Julia 1.7.3",
   "language": "julia",
   "name": "julia-1.7"
  },
  "language_info": {
   "file_extension": ".jl",
   "mimetype": "application/julia",
   "name": "julia",
   "version": "1.7.3"
  }
 },
 "nbformat": 4,
 "nbformat_minor": 5
}
