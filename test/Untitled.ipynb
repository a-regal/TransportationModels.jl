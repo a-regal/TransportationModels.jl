{
 "cells": [
  {
   "cell_type": "code",
   "execution_count": 1,
   "id": "0371af5e",
   "metadata": {},
   "outputs": [],
   "source": [
    "using Distances"
   ]
  },
  {
   "cell_type": "code",
   "execution_count": 2,
   "id": "66b1b0a6",
   "metadata": {},
   "outputs": [],
   "source": [
    "struct CVRPInstance\n",
    "    cost::Array{Float64, 2}\n",
    "    demand::Array{Int64}\n",
    "    capacity::Int64\n",
    "    K::Int64\n",
    "end"
   ]
  },
  {
   "cell_type": "code",
   "execution_count": 3,
   "id": "bcde563b",
   "metadata": {},
   "outputs": [
    {
     "data": {
      "text/plain": [
       "parse_vrp (generic function with 1 method)"
      ]
     },
     "execution_count": 3,
     "metadata": {},
     "output_type": "execute_result"
    }
   ],
   "source": [
    "function parse_vrp(fp::String)\n",
    "\n",
    "    f = open(fp)\n",
    "    text = readlines(f)\n",
    "    close(f)\n",
    "\n",
    "    k = 0\n",
    "    capacity = 0\n",
    "    instance_size = 0\n",
    "\n",
    "    data_parse_flag = false\n",
    "    parsing_demand = false\n",
    "    parsing_edge_weights = false\n",
    "    parsing_coords = false\n",
    "\n",
    "    coords = []\n",
    "    demand = []\n",
    "    cost = []\n",
    "\n",
    "    for line in text\n",
    "        if occursin(\"NAME : \", line)\n",
    "            k += parse(Int, match(r\"k\\d+\", line).match[2:end])\n",
    "        elseif occursin(\"DIMENSION\", line)\n",
    "            instance_size += parse(Int, match(r\"\\d+\", line).match)\n",
    "        elseif occursin(\"CAPACITY\", line)\n",
    "            capacity += parse(Int, match(r\"\\d+\", line).match)\n",
    "        elseif occursin(\"NODE_COORD_SECTION\", line)\n",
    "            data_parse_flag = true\n",
    "            parsing_coords = true\n",
    "            parsing_edge_weights = false\n",
    "            parsing_demand = false\n",
    "            continue\n",
    "        elseif occursin(\"EDGE_WEIGHT_SECTION\", line)\n",
    "            data_parse_flag = true\n",
    "            parsing_coords = false\n",
    "            parsing_edge_weights = true\n",
    "            parsing_demand = false\n",
    "            continue\n",
    "        elseif occursin(\"DEMAND_SECTION\", line)\n",
    "            data_parse_flag = true\n",
    "            parsing_coords = false\n",
    "            parsing_edge_weights = false\n",
    "            parsing_demand = true\n",
    "            continue\n",
    "        elseif occursin(\"DEPOT_SECTION\", line)\n",
    "            data_parse_flag = false\n",
    "\n",
    "        elseif occursin(\"EOF\", line)\n",
    "            break\n",
    "        end\n",
    "\n",
    "        if data_parse_flag\n",
    "            if parsing_coords\n",
    "                data = parse.(Float64, split(line))\n",
    "                push!(coords, data)\n",
    "            elseif parsing_edge_weights\n",
    "                data = parse.(Float64, split(line))\n",
    "                push!(cost, data)\n",
    "            elseif parsing_demand\n",
    "                data = parse.(Int, split(line))\n",
    "                push!(demand, data)\n",
    "            end\n",
    "        end\n",
    "    end\n",
    "\n",
    "    if size(coords)[end] == 0\n",
    "        println(\"Sorry not implemented\")\n",
    "    else\n",
    "        coords = permutedims(hcat(coords...))[:,2:end];\n",
    "        demand = permutedims(hcat(demand...))[:,2];\n",
    "        cost = pairwise(Euclidean(), coords, dims=1)\n",
    "\n",
    "        return CVRPInstance(cost, demand, capacity, k)\n",
    "    end\n",
    "end"
   ]
  },
  {
   "cell_type": "code",
   "execution_count": 6,
   "id": "831bbe63",
   "metadata": {},
   "outputs": [
    {
     "data": {
      "text/plain": [
       "CVRPInstance([0.0 25.45584412271571 … 20.0 3.0; 25.45584412271571 0.0 … 18.110770276274835 23.430749027719962; … ; 20.0 18.110770276274835 … 0.0 17.0; 3.0 23.430749027719962 … 17.0 0.0], [0, 18, 26, 11, 30, 21, 19, 15, 16, 29  …  37, 30, 10, 8, 11, 3, 1, 6, 10, 20], 100, 14)"
      ]
     },
     "execution_count": 6,
     "metadata": {},
     "output_type": "execute_result"
    }
   ],
   "source": [
    "instance = parse_vrp(\"data/E-n76-k14.vrp\")"
   ]
  }
 ],
 "metadata": {
  "kernelspec": {
   "display_name": "Julia 1.7.3",
   "language": "julia",
   "name": "julia-1.7"
  },
  "language_info": {
   "file_extension": ".jl",
   "mimetype": "application/julia",
   "name": "julia",
   "version": "1.7.3"
  }
 },
 "nbformat": 4,
 "nbformat_minor": 5
}
